{
  "nbformat": 4,
  "nbformat_minor": 0,
  "metadata": {
    "colab": {
      "provenance": []
    },
    "kernelspec": {
      "name": "python3",
      "display_name": "Python 3"
    },
    "language_info": {
      "name": "python"
    }
  },
  "cells": [
    {
      "cell_type": "code",
      "execution_count": null,
      "metadata": {
        "id": "8yP4dHHIhr_e",
        "colab": {
          "base_uri": "https://localhost:8080/"
        },
        "outputId": "a07b350a-2da5-4d7a-8f7c-b894221b1b61"
      },
      "outputs": [
        {
          "output_type": "stream",
          "name": "stdout",
          "text": [
            "0\n",
            "1\n",
            "4\n",
            "9\n"
          ]
        }
      ],
      "source": [
        "def cetak_nilai_kuadrat(n):\n",
        "  \"\"\"\n",
        "  Fungsi untuk mencetak nilai i pangkat 2 dari 0 hingga n-1.\n",
        "\n",
        "  Args:\n",
        "      n: Nilai integer non-negatif.\n",
        "\n",
        "  Returns:\n",
        "      None. Mencetak nilai i pangkat 2 ke konsol.\n",
        "  \"\"\"\n",
        "  # Mengecek jika n bukan integer non-negatif\n",
        "  if not isinstance(n, int) or n < 0:\n",
        "    raise ValueError(\"Nilai n harus integer non-negatif\")\n",
        "\n",
        "  # Membuat list untuk menyimpan nilai i pangkat 2\n",
        "  nilai_kuadrat = []\n",
        "\n",
        "  # Menghitung nilai i pangkat 2 dan simpan ke list\n",
        "  for i in range(n):\n",
        "    nilai_kuadrat.append(i**2)\n",
        "  # Mencetak nilai i pangkat 2 ke konsol\n",
        "  for nilai in nilai_kuadrat:\n",
        "    print(nilai)\n",
        "\n",
        "# contoh\n",
        "n = 4\n",
        "cetak_nilai_kuadrat(n)\n"
      ]
    },
    {
      "cell_type": "markdown",
      "source": [],
      "metadata": {
        "id": "TQns9ZAwn7sX"
      }
    }
  ]
}